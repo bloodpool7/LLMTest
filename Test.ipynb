{
 "cells": [
  {
   "cell_type": "code",
   "execution_count": 1,
   "metadata": {},
   "outputs": [],
   "source": [
    "import openai\n",
    "\n",
    "openai.api_key = open(\"key.txt\", \"r\").read().strip(\"\\n\")"
   ]
  },
  {
   "cell_type": "code",
   "execution_count": 4,
   "metadata": {},
   "outputs": [
    {
     "name": "stdout",
     "output_type": "stream",
     "text": [
      "{\n",
      "  \"choices\": [\n",
      "    {\n",
      "      \"finish_reason\": \"stop\",\n",
      "      \"index\": 0,\n",
      "      \"message\": {\n",
      "        \"content\": \"The circumference of the moon is approximately 10,921 km.\",\n",
      "        \"role\": \"assistant\"\n",
      "      }\n",
      "    }\n",
      "  ],\n",
      "  \"created\": 1679969048,\n",
      "  \"id\": \"chatcmpl-6ysyuqancojADWg8WhBMtSRmEHEIX\",\n",
      "  \"model\": \"gpt-3.5-turbo-0301\",\n",
      "  \"object\": \"chat.completion\",\n",
      "  \"usage\": {\n",
      "    \"completion_tokens\": 13,\n",
      "    \"prompt_tokens\": 17,\n",
      "    \"total_tokens\": 30\n",
      "  }\n",
      "}\n"
     ]
    }
   ],
   "source": [
    "completion = openai.ChatCompletion().create(\n",
    "    model = \"gpt-3.5-turbo\",\n",
    "    messages = [{\"role\" : \"user\", \"content\" : \"What is the circumference of the moon km?\"}]\n",
    ")\n",
    "\n",
    "print(completion)"
   ]
  },
  {
   "cell_type": "code",
   "execution_count": 9,
   "metadata": {},
   "outputs": [
    {
     "name": "stdout",
     "output_type": "stream",
     "text": [
      "The circumference of the moon is approximately 10,921 km.\n"
     ]
    }
   ],
   "source": [
    "reply_content = completion.choices[0].message.content\n",
    "print(reply_content)"
   ]
  },
  {
   "cell_type": "code",
   "execution_count": 16,
   "metadata": {},
   "outputs": [
    {
     "name": "stdout",
     "output_type": "stream",
     "text": [
      "{\n",
      "  \"choices\": [\n",
      "    {\n",
      "      \"finish_reason\": \"stop\",\n",
      "      \"index\": 0,\n",
      "      \"message\": {\n",
      "        \"content\": \"def dot_product(v1, v2):\\n    return sum(i*j for i,j in zip(v1,v2))\",\n",
      "        \"role\": \"assistant\"\n",
      "      }\n",
      "    }\n",
      "  ],\n",
      "  \"created\": 1679970050,\n",
      "  \"id\": \"chatcmpl-6ytF4oW6zbABYrwH4GcWLLXAbQ1NM\",\n",
      "  \"model\": \"gpt-3.5-turbo-0301\",\n",
      "  \"object\": \"chat.completion\",\n",
      "  \"usage\": {\n",
      "    \"completion_tokens\": 24,\n",
      "    \"prompt_tokens\": 32,\n",
      "    \"total_tokens\": 56\n",
      "  }\n",
      "}\n"
     ]
    }
   ],
   "source": [
    "completion = openai.ChatCompletion.create(\n",
    "    model = \"gpt-3.5-turbo\",\n",
    "    messages = [{\"role\": \"user\", \"content\": \"Write a simple function in python that returns the dot product of two vectors. Only include the code and say nothing else.\"}]\n",
    ")\n",
    "\n",
    "print(completion)"
   ]
  },
  {
   "cell_type": "code",
   "execution_count": 18,
   "metadata": {},
   "outputs": [
    {
     "name": "stdout",
     "output_type": "stream",
     "text": [
      "def dot_product(v1, v2):\n",
      "    return sum(i*j for i,j in zip(v1,v2))\n"
     ]
    }
   ],
   "source": [
    "reply_content = completion.choices[0].message.content\n",
    "print(reply_content)"
   ]
  },
  {
   "cell_type": "code",
   "execution_count": 20,
   "metadata": {},
   "outputs": [
    {
     "data": {
      "text/plain": [
       "66"
      ]
     },
     "execution_count": 20,
     "metadata": {},
     "output_type": "execute_result"
    }
   ],
   "source": [
    "output = open(\"dotproduct.py\", \"w\")\n",
    "\n",
    "output.write(reply_content)"
   ]
  },
  {
   "cell_type": "code",
   "execution_count": 2,
   "metadata": {},
   "outputs": [
    {
     "name": "stdout",
     "output_type": "stream",
     "text": [
      "{\n",
      "  \"choices\": [\n",
      "    {\n",
      "      \"finish_reason\": \"stop\",\n",
      "      \"index\": 0,\n",
      "      \"message\": {\n",
      "        \"content\": \"I'm sorry, but as a language model AI, I cannot provide answers to programming prompts or problems. However, here's a sample code snippet for creating a Tic Tac Toe game in Python:\\n\\n```\\n# Tic Tac Toe game in Python\\n\\ndef print_board(board):\\n    print(\\\"-------------\\\")\\n    print(\\\"| \\\" + board[0][0] + \\\" | \\\" + board[0][1] + \\\" | \\\" + board[0][2] + \\\" |\\\")\\n    print(\\\"-------------\\\")\\n    print(\\\"| \\\" + board[1][0] + \\\" | \\\" + board[1][1] + \\\" | \\\" + board[1][2] + \\\" |\\\")\\n    print(\\\"-------------\\\")\\n    print(\\\"| \\\" + board[2][0] + \\\" | \\\" + board[2][1] + \\\" | \\\" + board[2][2] + \\\" |\\\")\\n    print(\\\"-------------\\\")\\n\\ndef check_win(board):\\n    for i in range(3):\\n        if board[i][0] == board[i][1] == board[i][2] != \\\" \\\":\\n            return True\\n        if board[0][i] == board[1][i] == board[2][i] != \\\" \\\":\\n            return True\\n    if board[0][0] == board[1][1] == board[2][2] != \\\" \\\":\\n        return True\\n    if board[2][0] == board[1][1] == board[0][2] != \\\" \\\":\\n        return True\\n    return False\\n\\ndef tic_tac_toe():\\n    board = [[\\\" \\\", \\\" \\\", \\\" \\\"], [\\\" \\\", \\\" \\\", \\\" \\\"], [\\\" \\\", \\\" \\\", \\\" \\\"]]\\n    player = \\\"X\\\"\\n    print_board(board)\\n    while True:\\n        print(\\\"Player\\\", player)\\n        row = int(input(\\\"Enter row (0-2): \\\"))\\n        col = int(input(\\\"Enter column (0-2): \\\"))\\n        if board[row][col] != \\\" \\\":\\n            print(\\\"Spot already taken!\\\")\\n            continue\\n        board[row][col] = player\\n        print_board(board)\\n        if check_win(board):\\n            print(\\\"Player\\\", player, \\\"wins!\\\")\\n            break\\n        if player == \\\"X\\\":\\n            player = \\\"O\\\"\\n        else:\\n            player = \\\"X\\\"\\n\\ntic_tac_toe()\\n```\",\n",
      "        \"role\": \"assistant\"\n",
      "      }\n",
      "    }\n",
      "  ],\n",
      "  \"created\": 1680025420,\n",
      "  \"id\": \"chatcmpl-6z7e8jeIbpDPuplAgtKCWgCFyF5IF\",\n",
      "  \"model\": \"gpt-3.5-turbo-0301\",\n",
      "  \"object\": \"chat.completion\",\n",
      "  \"usage\": {\n",
      "    \"completion_tokens\": 481,\n",
      "    \"prompt_tokens\": 22,\n",
      "    \"total_tokens\": 503\n",
      "  }\n",
      "}\n"
     ]
    }
   ],
   "source": [
    "usr_input = input(\"Enter input for GPT: \")\n",
    "\n",
    "completion = openai.ChatCompletion.create(\n",
    "    model = \"gpt-3.5-turbo\",\n",
    "    messages = [{\"role\" : \"user\", \"content\" : usr_input}]\n",
    ")\n",
    "\n",
    "print(completion)"
   ]
  },
  {
   "cell_type": "code",
   "execution_count": 4,
   "metadata": {},
   "outputs": [
    {
     "data": {
      "text/plain": [
       "1602"
      ]
     },
     "execution_count": 4,
     "metadata": {},
     "output_type": "execute_result"
    }
   ],
   "source": [
    "content = completion.choices[0].message.content\n",
    "\n",
    "output = open(\"Test.py\", \"a\")\n",
    "output.write(content)"
   ]
  },
  {
   "cell_type": "code",
   "execution_count": 21,
   "metadata": {},
   "outputs": [
    {
     "name": "stdout",
     "output_type": "stream",
     "text": [
      "{\n",
      "  \"choices\": [\n",
      "    {\n",
      "      \"finish_reason\": \"stop\",\n",
      "      \"index\": 0,\n",
      "      \"logprobs\": null,\n",
      "      \"text\": \" We have a class TicTacToe that represents the game and two instances game1 and game2. The final game will be played against the computer. Also included is Reversi, a game we can play against other people. The implementation uses Classes.\\n\\n'Dog gone it! - List Functions Exercise\\n\\nWe are going to use functional programming to graph a dog. This will include creating a list of characters and scanning over them to generate the image, to\\n\\nUnderstanding URLs and Functions in Python\\n\\nWhen creating a web service in Python, the framework HTTP and URLs will come into play. In this tutorial, you'll learn about how the\\n\\nCreating a Console Application in Python\\n\\nCreating a console is a good way to test that software you are writing works at a very low level. In this tutorial we look at creating a\\n\\nGetting Started with Python 2 & 3\\n\\nStarting off with Python is getting easier as time goes on. In this tutorial I'll show you the steps needed to get Python 2 or 3. You'll learn the\\n\\nMaking an End Table with PyGTK\\n\\nIn this tutorial we will create an end table using Python and the PyGTK library. I'll walk you through the steps required to create a very nice\\n\\nGetting Started with Web Services and Python\\n\\nIn this tutorial you're going to get started with web services in python by sending data to a web server. You are not required to know much of\\n\\nThe Book of Tutorials - Learning Statistics with Python\\n\\nIn this code tutorial we are going to examine how to create basic surveys and take data along the way. We will cover how to plot data and\\n\\nIntroduction to the New Tkinter\\n\\nThe Tkinter package has seen its life cycle extended from version 1.2 to the new 2.x version. With PyGame and the older Tkinter, there are a few concepts we will have to look at again to handle the Tkinter in a different way that suits our requirements.\"\n",
      "    }\n",
      "  ],\n",
      "  \"created\": 1680037018,\n",
      "  \"id\": \"cmpl-6zAfCbjnZOePh8nwMWYqbJfeo5Ngj\",\n",
      "  \"model\": \"davinci\",\n",
      "  \"object\": \"text_completion\",\n",
      "  \"usage\": {\n",
      "    \"completion_tokens\": 417,\n",
      "    \"prompt_tokens\": 8,\n",
      "    \"total_tokens\": 425\n",
      "  }\n",
      "}\n"
     ]
    }
   ],
   "source": [
    "completion = openai.Completion.create(\n",
    "    engine = \"davinci\",\n",
    "    prompt = \"Code tic tac toe in Python.\",\n",
    "    max_tokens = 1000\n",
    ")\n",
    "print(completion)"
   ]
  },
  {
   "cell_type": "code",
   "execution_count": 22,
   "metadata": {},
   "outputs": [
    {
     "name": "stdout",
     "output_type": "stream",
     "text": [
      " We have a class TicTacToe that represents the game and two instances game1 and game2. The final game will be played against the computer. Also included is Reversi, a game we can play against other people. The implementation uses Classes.\n",
      "\n",
      "'Dog gone it! - List Functions Exercise\n",
      "\n",
      "We are going to use functional programming to graph a dog. This will include creating a list of characters and scanning over them to generate the image, to\n",
      "\n",
      "Understanding URLs and Functions in Python\n",
      "\n",
      "When creating a web service in Python, the framework HTTP and URLs will come into play. In this tutorial, you'll learn about how the\n",
      "\n",
      "Creating a Console Application in Python\n",
      "\n",
      "Creating a console is a good way to test that software you are writing works at a very low level. In this tutorial we look at creating a\n",
      "\n",
      "Getting Started with Python 2 & 3\n",
      "\n",
      "Starting off with Python is getting easier as time goes on. In this tutorial I'll show you the steps needed to get Python 2 or 3. You'll learn the\n",
      "\n",
      "Making an End Table with PyGTK\n",
      "\n",
      "In this tutorial we will create an end table using Python and the PyGTK library. I'll walk you through the steps required to create a very nice\n",
      "\n",
      "Getting Started with Web Services and Python\n",
      "\n",
      "In this tutorial you're going to get started with web services in python by sending data to a web server. You are not required to know much of\n",
      "\n",
      "The Book of Tutorials - Learning Statistics with Python\n",
      "\n",
      "In this code tutorial we are going to examine how to create basic surveys and take data along the way. We will cover how to plot data and\n",
      "\n",
      "Introduction to the New Tkinter\n",
      "\n",
      "The Tkinter package has seen its life cycle extended from version 1.2 to the new 2.x version. With PyGame and the older Tkinter, there are a few concepts we will have to look at again to handle the Tkinter in a different way that suits our requirements.\n"
     ]
    }
   ],
   "source": [
    "print(completion.choices[0].text)"
   ]
  }
 ],
 "metadata": {
  "kernelspec": {
   "display_name": "Python 3",
   "language": "python",
   "name": "python3"
  },
  "language_info": {
   "codemirror_mode": {
    "name": "ipython",
    "version": 3
   },
   "file_extension": ".py",
   "mimetype": "text/x-python",
   "name": "python",
   "nbconvert_exporter": "python",
   "pygments_lexer": "ipython3",
   "version": "3.10.0"
  },
  "orig_nbformat": 4
 },
 "nbformat": 4,
 "nbformat_minor": 2
}
